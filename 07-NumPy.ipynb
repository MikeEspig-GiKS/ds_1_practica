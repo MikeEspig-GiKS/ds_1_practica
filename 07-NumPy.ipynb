{
 "cells": [
  {
   "cell_type": "markdown",
   "metadata": {},
   "source": [
    "# NumPy\n",
    "Prof. Dr. Mike Espig, WHZ – University of Applied Sciences Zwickau\n",
    "\n",
    "In this lesson we will consolidate the basic material from the lecture by practical exercises.\n",
    "\n",
    "We'll learn about the following topics:\n",
    "    \n",
    "    1.) Discussion: homework classes\n",
    "    2.) Practicum"
   ]
  },
  {
   "cell_type": "markdown",
   "metadata": {},
   "source": [
    "### Discussion: : homework classes"
   ]
  },
  {
   "cell_type": "markdown",
   "metadata": {},
   "source": []
  },
  {
   "cell_type": "markdown",
   "metadata": {},
   "source": [
    "### Practicum/Homework"
   ]
  },
  {
   "cell_type": "code",
   "execution_count": 1,
   "metadata": {},
   "outputs": [],
   "source": [
    "import numpy as np"
   ]
  },
  {
   "cell_type": "markdown",
   "metadata": {},
   "source": [
    "**Problem 1: \n",
    "Write a NumPy program to create a 3x3 matrix with values ranging from 2 to 10, see [reshape](https://docs.scipy.org/doc/numpy/reference/generated/numpy.reshape.html).**\n",
    "\n",
    "**Expected Output:\n",
    "[[ 2 3 4]\n",
    "[ 5 6 7]\n",
    "[ 8 9 10]]**"
   ]
  },
  {
   "cell_type": "code",
   "execution_count": 3,
   "metadata": {},
   "outputs": [
    {
     "data": {
      "text/plain": [
       "array([[ 2,  3,  4],\n",
       "       [ 5,  6,  7],\n",
       "       [ 8,  9, 10]])"
      ]
     },
     "execution_count": 3,
     "metadata": {},
     "output_type": "execute_result"
    }
   ],
   "source": []
  },
  {
   "cell_type": "markdown",
   "metadata": {},
   "source": [
    "**Problem 2: Write a NumPy program to reverse an array (first element becomes last).**\n",
    "\n",
    "\n",
    "Original array:\n",
    "[12 13 14 15 16 17 18 19 20 21 22 23 24 25 26 27 28 29 30 31 32 33 34 35 36 37]\n",
    "\n",
    "\n",
    "Reverse array:\n",
    "[37 36 35 34 33 32 31 30 29 28 27 26 25 24 23 22 21 20 19 18 17 16 15 14 13 12]"
   ]
  },
  {
   "cell_type": "code",
   "execution_count": 7,
   "metadata": {},
   "outputs": [
    {
     "name": "stdout",
     "output_type": "stream",
     "text": [
      "[37 36 35 34 33 32 31 30 29 28 27 26 25 24 23 22 21 20 19 18 17 16 15 14\n",
      " 13 12]\n"
     ]
    },
    {
     "data": {
      "text/plain": [
       "26"
      ]
     },
     "execution_count": 7,
     "metadata": {},
     "output_type": "execute_result"
    }
   ],
   "source": []
  },
  {
   "cell_type": "markdown",
   "metadata": {},
   "source": [
    "**Problem 3: \n",
    "Write a NumPy program to compute sum of all elements, sum of each column and sum of each row of an given array.**"
   ]
  },
  {
   "cell_type": "code",
   "execution_count": 12,
   "metadata": {},
   "outputs": [
    {
     "name": "stdout",
     "output_type": "stream",
     "text": [
      "[[0 1 2]\n",
      " [3 4 5]\n",
      " [6 7 8]]\n",
      "#############################\n",
      "sum(matC) = 36\n",
      "sumRow    = [ 3 12 21]\n",
      "sumCol    = [ 9 12 15]\n"
     ]
    }
   ],
   "source": []
  },
  {
   "cell_type": "markdown",
   "metadata": {},
   "source": [
    "\n",
    "**Problem 4: Write a NumPy program to [append](https://docs.scipy.org/doc/numpy/reference/generated/numpy.append.html) values to the end of an array.**\n",
    "    \n",
    "    \n",
    "Expected Output:\n",
    "    \n",
    "Original array:\n",
    "[10, 20, 30]\n",
    "\n",
    "\n",
    "After append values to the end of the array:\n",
    "[10 20 30 40 50 60 70 80 90]"
   ]
  },
  {
   "cell_type": "code",
   "execution_count": 13,
   "metadata": {},
   "outputs": [
    {
     "data": {
      "text/plain": [
       "array([10, 20, 30, 40, 50, 60, 70, 80, 90])"
      ]
     },
     "execution_count": 13,
     "metadata": {},
     "output_type": "execute_result"
    }
   ],
   "source": []
  },
  {
   "cell_type": "markdown",
   "metadata": {},
   "source": [
    "**Problem 5: Write a NumPy program to change the dimension of an array, see [reshape](https://docs.scipy.org/doc/numpy/reference/generated/numpy.reshape.html).**\n",
    "\n",
    "\n",
    "Expected Output:\n",
    "6 rows [1, 2, 3, 4, 5, 6, 7, 8, 9]\n",
    "(6,)\n",
    "\n",
    "\n",
    "Change array shape to (3, 3) -> 3 rows and 3 columns\n",
    "[[1 2 3]\n",
    "[4 5 6]\n",
    "[7 8 9]]"
   ]
  },
  {
   "cell_type": "code",
   "execution_count": 18,
   "metadata": {},
   "outputs": [
    {
     "data": {
      "text/plain": [
       "array([[[ 2],\n",
       "        [ 3],\n",
       "        [ 4]],\n",
       "\n",
       "       [[ 5],\n",
       "        [ 6],\n",
       "        [ 7]],\n",
       "\n",
       "       [[ 8],\n",
       "        [ 9],\n",
       "        [10]]])"
      ]
     },
     "execution_count": 18,
     "metadata": {},
     "output_type": "execute_result"
    }
   ],
   "source": []
  },
  {
   "cell_type": "markdown",
   "metadata": {},
   "source": [
    "**Problem 6: Write a NumPy program to split an array of 14 elements into 3 arrays, each of which has 2, 4, and 8 elements in the original order, see [split](https://docs.scipy.org/doc/numpy/reference/generated/numpy.split.html).**\n",
    "\n",
    "Expected Output:\n",
    "\n",
    "Original array: [ 1 2 3 4 5 6 7 8 9 10 11 12 13 14]\n",
    "\n",
    "After splitting:\n",
    "[array([1, 2]), array([3, 4, 5, 6]), array([ 7, 8, 9, 10, 11, 12, 13, 14])], "
   ]
  },
  {
   "cell_type": "code",
   "execution_count": 27,
   "metadata": {},
   "outputs": [
    {
     "name": "stdout",
     "output_type": "stream",
     "text": [
      "[ 1  2  3  4  5  6  7  8  9 10 11 12 13 14]\n",
      "[1 2] [3 4 5 6] [ 7  8  9 10 11 12 13 14]\n"
     ]
    }
   ],
   "source": []
  },
  {
   "cell_type": "markdown",
   "metadata": {},
   "source": [
    "**Problem 7: Write a NumPy program to calculate the difference between the maximum and the minimum values of a given array along the second axis.**\n",
    "\n",
    "\n",
    "Expected Output:\n",
    "\n",
    "Original array:\n",
    "\n",
    "[[ 0 1 2 3 4 5]\n",
    "[ 6 7 8 9 10 11]]\n",
    "\n",
    "Difference between the maximum and the minimum values of the said array:\n",
    "\n",
    "[5 5]\n",
    "\n",
    "[Hint](https://numpy.org/doc/stable/reference/generated/numpy.ptp.html)."
   ]
  },
  {
   "cell_type": "code",
   "execution_count": 29,
   "metadata": {},
   "outputs": [
    {
     "data": {
      "text/plain": [
       "array([5, 5])"
      ]
     },
     "execution_count": 29,
     "metadata": {},
     "output_type": "execute_result"
    }
   ],
   "source": []
  },
  {
   "cell_type": "markdown",
   "metadata": {},
   "source": [
    "**Problem 8: Write a NumPy program to compute the mean, standard deviation, and variance of a given array along the second axis.**\n",
    "\n",
    "\n",
    "Sample output:\n",
    "\n",
    "Original array:\n",
    "\n",
    "[0 1 2 3 4 5]\n",
    "\n",
    "Mean: 2.5\n",
    "\n",
    "std: 1\n",
    "\n",
    "variance: 2.9166666666666665\n"
   ]
  },
  {
   "cell_type": "code",
   "execution_count": 35,
   "metadata": {},
   "outputs": [
    {
     "name": "stdout",
     "output_type": "stream",
     "text": [
      "mean: 2.50\n",
      "std: 1.71\n",
      "variance: 2.92\n"
     ]
    }
   ],
   "source": []
  },
  {
   "cell_type": "markdown",
   "metadata": {},
   "source": [
    "**Problem 9: Write a NumPy program to compute the [covariance](https://docs.scipy.org/doc/numpy/reference/generated/numpy.cov.html) matrix of two given arrays.** \n",
    "\n",
    "\n",
    "Sample Output:\n",
    "\n",
    "Original array1:\n",
    "\n",
    "[0 1 2]\n",
    "\n",
    "Original array2:\n",
    "\n",
    "[2 1 0]\n",
    "\n",
    "Covariance matrix of the said arrays:\n",
    "\n",
    "[[ 1. -1.]\n",
    "[-1. 1.]]"
   ]
  },
  {
   "cell_type": "code",
   "execution_count": 38,
   "metadata": {},
   "outputs": [
    {
     "data": {
      "text/plain": [
       "array([[ 1., -1.],\n",
       "       [-1.,  1.]])"
      ]
     },
     "execution_count": 38,
     "metadata": {},
     "output_type": "execute_result"
    }
   ],
   "source": []
  },
  {
   "cell_type": "markdown",
   "metadata": {},
   "source": [
    "**Problem 10: Write a NumPy program to [compute](https://docs.scipy.org/doc/numpy/reference/generated/numpy.histogram.html) the [histogram](https://matplotlib.org/3.1.1/api/_as_gen/matplotlib.pyplot.hist.html) of nums against the bins.**\n",
    "\n",
    "\n",
    "Sample Output:\n",
    "\n",
    "nums: [0.5 0.7 1. 1.2 1.3 2.1]\n",
    "\n",
    "bins: [0 1 2 3]\n",
    "\n",
    "\n",
    "Result: (array([2, 3, 1], dtype=int64), array([0, 1, 2, 3]))"
   ]
  },
  {
   "cell_type": "code",
   "execution_count": 37,
   "metadata": {},
   "outputs": [
    {
     "name": "stdout",
     "output_type": "stream",
     "text": [
      "nums:  [0.5 0.7 1.  1.2 1.3 2.1]\n",
      "bins:  [0 1 2 3]\n",
      "Result: (array([2, 3, 1], dtype=int64), array([0, 1, 2, 3]))\n"
     ]
    },
    {
     "data": {
      "image/png": "[encoded data removed]",
      "text/plain": [
       "<Figure size 432x288 with 1 Axes>"
      ]
     },
     "metadata": {
      "needs_background": "light"
     },
     "output_type": "display_data"
    }
   ],
   "source": [
    "import matplotlib.pyplot as plt\n",
    "%matplotlib inline\n",
    "\n"
   ]
  },
  {
   "cell_type": "code",
   "execution_count": null,
   "metadata": {},
   "outputs": [],
   "source": []
  }
 ],
 "metadata": {
  "anaconda-cloud": {},
  "kernelspec": {
   "display_name": "Python 3 (ipykernel)",
   "language": "python",
   "name": "python3"
  },
  "language_info": {
   "codemirror_mode": {
    "name": "ipython",
    "version": 3
   },
   "file_extension": ".py",
   "mimetype": "text/x-python",
   "name": "python",
   "nbconvert_exporter": "python",
   "pygments_lexer": "ipython3",
   "version": "3.9.7"
  }
 },
 "nbformat": 4,
 "nbformat_minor": 4
}
