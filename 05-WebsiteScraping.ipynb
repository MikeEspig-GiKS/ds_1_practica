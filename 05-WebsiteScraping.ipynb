{
 "cells": [
  {
   "cell_type": "markdown",
   "metadata": {},
   "source": [
    "# Website Scraping\n",
    "Prof. Dr. Mike Espig, WHZ – University of Applied Sciences Zwickau\n",
    "\n",
    "In this lesson we will consolidate the basic material from the lecture by practical exercises.\n",
    "\n",
    "We'll learn about the following topics:\n",
    "    \n",
    "    1.) Rechtliche Grundlagen\n",
    "    2.) Practicum"
   ]
  },
  {
   "cell_type": "markdown",
   "metadata": {},
   "source": [
    "## Rechtliche Grundlagen"
   ]
  },
  {
   "cell_type": "markdown",
   "metadata": {},
   "source": [
    "Beim Scraping von Webseiten fremder Anbieter muss auf die Einhaltung der Urheberrechte geachtet werden, vor allem wenn die Inhalte über ein eigenes Angebot eingebunden werden. Eine rechtliche Grauzone ist dagegen das Anbieten von Programmen, die ein clientseitiges Screen Scraping ermöglichen. Einige Anbieter verbieten das automatische Auslesen von Daten auch explizit in den Nutzungsbedingungen.\n",
    "\n",
    "Ein weiteres Problem stellt unter Umständen das Ausblenden von Informationen dar, etwa von Werbung oder rechtlich relevanten Informationen wie Disclaimer, Warnungen oder gar die automatische Bestätigung der AGB durch den Screen Scraper, ohne dass der Nutzer diese zu Gesicht bekommt.\n",
    "\n",
    "\n",
    "Zunächst ist festzustellen, dass das Auslesen fremder Daten und die Veröffentlichung auf einer eigenen Internetplattform nicht schon grundsätzlich unzulässig ist.\n",
    "\n",
    "Unter Berücksichtigung früherer Entscheidungen zum Datenbankschutz ist bei der Frage nach der Zulässigkeit von Screen Scraping aber sehr genau zu differenzieren. Dabei kommt es maßgeblich auf zwei Kriterien an.\n",
    "\n",
    "Zum einen in welchem Umfang und welche Art von Daten aus der fremden Webseite ‘herausgezogen’ und anderweitig verwendet werden. Soweit die extrahierten Daten urheberrechtlichen Schutz genießen, dürfte die anderweitige Veröffentlichung in aller Regel unzulässig sein. Soweit die Daten aber – z.B. wegen mangelnder Schöpfungshöhe – keinen Urheberrechtsschutz genießen, so ist für die Beurteilung der Rechtswidrigkeit maßgebend, ob wesentliche Teile der Datenbank extrahiert werden oder nur einzelne – nicht die Rechte des Datenbankherstellers tangierende – (Teil-)datensätze.\n",
    "\n",
    "Weiterhin kommt es nicht nur nach dem oben dargestellten Urteils, sondern auch auf Grundlage der sogenannten Paperboy-Entscheidung des Bundesgerichtshofs (BGH) darauf an, ob der Betreiber der betroffenen Datenbank technische Maßnahmen ergriffen hat, um ein solches Auslesen der Daten durch Dritte zu verhindern. Wenn nämlich solche Mechanismen umgangen werden, kann man zumindest im Regelfall von einer Rechtsverletzung ausgehen. Andernfalls müsse – wenn kein Urheber- oder Datenbankrechte eingreife – die Datenextraktion eben geduldet werden.\n",
    "\n",
    "Die Zulässigkeit des Screen Scrapings wird auch in anderen Rechtsordnungen in ähnlichen Kategorien diskutiert.\n",
    "\n",
    "### Praxistipps\n",
    "\n",
    "Aus den vorgenannten Grundsätzen ergeben sich folgende Empfehlungen für Unternehmen die eine Extraktion und Aggregation fremder Webseiten zu ihrem Geschäftsmodell haben:\n",
    "\n",
    "- extrahierte Daten dürfen nur dann veröffentlicht werden, wenn sie nicht über das Urheberrecht geschützt sind\n",
    "- Daten dürfen ausgelesen und verwendet werden, wenn es sich dabei um unwesentliche Teile der Datenbank handelt\n",
    "- technische Vorkehrungen gegen Screen-Scraping dürfen nicht umgangen werden\n",
    "\n",
    "Seitenbetreiber, die zum Schutz ihrer Daten unabhängig davon, ob diese urheberrechtlich oder im Sinne einer Datenbank gemäß § 87 b UrhG geschützt sind, einen weiteren rechtlichen Ansatzpunkt begründen wollen, um bei der Aggregation ihrer Daten Unterlassung oder auch Schadenersatz begründen zu können, ist zu raten,\n",
    "\n",
    "- technische Vorkehrungen gegen das Auslesen zu installieren\n",
    "- die Nutzung der Daten allgemein von einer Anmeldung und damit einem Nutzungsvertrag abhängig macht (natürlich nur wenn das auch ansonsten für das Geschäftsmodell passt). Einseitige Hinweise auf der Webseite, dass das Auslesen nicht erlaubt wird, dürften nach dem Urteil des OLG Frankfurt insoweit nicht weiterhelfen.\n",
    "\n",
    "Wenn die ausgelesenen Daten urheberrechtlich oder als Datenbank geschützt sind, müssen betroffene Webseitenbetreiber die Extraktion keinesfalls dulden und haben entsprechende Unterlassungs- und Schadenersatzansprüche.\n",
    "\n",
    "Aggregatoren stellen – unabhängig von der rechtlichen Zulässigkeit des konkreten Geschäftsmodells – eine gewisse Gefahr für die Anbieter der „originalen“ Inhalte. Diese ziehen Besucher und Page Impressions (PI) ab und versichen of selbst sich als Plattform für Werbung zu etablieren. Demgemäß geht Facebook in den USA bereits gerichtlich gegen Social Networking Aggregator Power www.power.com vor.\n",
    "\n",
    "Aufgrund der interessanten Perspektiven, die das Internet gerade für Aggregatoren bietet, wird dies aber sicher nicht das letzte Urteil zu dieser Thematik gewesen sein. Betroffene Unternehmen sowohl der einen als auch der anderen „Seite“ sollten insofern die Rechtsprechung weiter beobachten… \n",
    "\n",
    "## Quellen und weitere Informationen\n",
    "\n",
    "### Lage in Deutschland\n",
    "\n",
    "[http://www.rechtzweinull.de/](http://www.rechtzweinull.de/archives/100-screen-scraping-wann-ist-das-auslesen-und-die-veroeffentlichung-fremder-daten-zulaessig.html)\n",
    "\n",
    "[https://www.ra-plutte.de](https://www.ra-plutte.de/bgh-zum-automatisierten-auslesen-fremder-websites-via-screen-scraping/)\n",
    "\n",
    "[https://de.wikipedia.org](https://de.wikipedia.org/wiki/Screen_Scraping#Rechtliche_Probleme)\n",
    "\n",
    "[https://www.lto.de](https://www.lto.de/recht/hintergruende/h/bgh-urteil-izr22412-screen-scraping-flugdaten-automatisiert-auslesen-ryanair-reiseportal/)\n",
    "\n",
    "### EU\n",
    "\n",
    "[https://blog.scrapinghub.com](https://blog.scrapinghub.com/web-scraping-gdpr-compliance-guide)\n",
    "\n",
    "### USA\n",
    "\n",
    "[https://en.wikipedia.org](https://en.wikipedia.org/wiki/Web_scraping#Legal_issues)"
   ]
  },
  {
   "cell_type": "markdown",
   "metadata": {},
   "source": [
    "<a id=\"install\"></a>\n",
    "    \n",
    "## [Additional packages](#Content) "
   ]
  },
  {
   "cell_type": "code",
   "execution_count": null,
   "metadata": {},
   "outputs": [],
   "source": [
    "!pip install requests\n",
    "!pip install google\n",
    "!pip install lxml\n",
    "!pip install bs4"
   ]
  },
  {
   "cell_type": "markdown",
   "metadata": {},
   "source": [
    "## Practicum"
   ]
  },
  {
   "cell_type": "markdown",
   "metadata": {},
   "source": [
    "**Problem 1: Please write a module called WHZWebScraper and implement the functions from Problem 2, Problem 3, and Problem 4 in it. Call the functions later in your Jupyter Notebook.**"
   ]
  },
  {
   "cell_type": "markdown",
   "metadata": {},
   "source": [
    "**Problem 2: Write a function to get a list of all headlines from https://www.fh-zwickau.de/hochschule/rektorat/stabsstellen/kommunikation-marketing/presse/pressemitteilungen/.**\n",
    "\n",
    "**Output:**\n",
    "List of all headlines."
   ]
  },
  {
   "cell_type": "code",
   "execution_count": null,
   "metadata": {},
   "outputs": [],
   "source": []
  },
  {
   "cell_type": "markdown",
   "metadata": {},
   "source": [
    "**Problem 3: Write a function to get a list of all teaser from https://www.fh-zwickau.de/hochschule/rektorat/stabsstellen/kommunikation-marketing/presse/pressemitteilungen/.**\n",
    "\n",
    "**Output:**\n",
    "List of all teasers."
   ]
  },
  {
   "cell_type": "code",
   "execution_count": null,
   "metadata": {},
   "outputs": [],
   "source": []
  },
  {
   "cell_type": "markdown",
   "metadata": {},
   "source": [
    "**Problem 4: Write a function to get the current price of the NVIDIA DGX A100 320GB server from https://www.deltacomputer.com/nvidia-dgx-a100-320gb-3ys.html.**\n",
    "\n",
    "**Output:**\n",
    "the price"
   ]
  },
  {
   "cell_type": "markdown",
   "metadata": {},
   "source": [
    "**Hint:** Please use `#some_id` and have a look at `product-price-4409`. \n",
    "<table>\n",
    "\n",
    "<thead >\n",
    "<tr>\n",
    "<th>\n",
    "<p>Syntax to pass to the .select() method</p>\n",
    "</th>\n",
    "<th>\n",
    "<p>Match Results</p>\n",
    "</th>\n",
    "</tr>\n",
    "</thead>\n",
    "<tbody>\n",
    "<tr>\n",
    "<td>\n",
    "<p><code>soup.select('div')</code></p>\n",
    "</td>\n",
    "<td>\n",
    "<p>All elements with the <code>&lt;div&gt;</code> tag</p>\n",
    "</td>\n",
    "</tr>\n",
    "<tr>\n",
    "<td>\n",
    "<p><code>soup.select('#some_id')</code></p>\n",
    "</td>\n",
    "<td>\n",
    "<p>The HTML element containing the <code>id</code> attribute of <code>some_id</code></p>\n",
    "</td>\n",
    "</tr>\n",
    "<tr>\n",
    "<td>\n",
    "<p><code>soup.select('.notice')</code></p>\n",
    "</td>\n",
    "<td>\n",
    "<p>All the HTML elements with the CSS <code>class</code> named <code>notice</code></p>\n",
    "</td>\n",
    "</tr>\n",
    "<tr>\n",
    "<td>\n",
    "<p><code>soup.select('div span')</code></p>\n",
    "</td>\n",
    "<td>\n",
    "<p>Any elements named <code>&lt;span&gt;</code> that are within an element named <code>&lt;div&gt;</code></p>\n",
    "</td>\n",
    "</tr>\n",
    "<tr>\n",
    "<td>\n",
    "<p><code>soup.select('div &gt; span')</code></p>\n",
    "</td>\n",
    "<td>\n",
    "<p>Any elements named <code class=\"literal2\">&lt;span&gt;</code> that are <span><em >directly</em></span> within an element named <code class=\"literal2\">&lt;div&gt;</code>, with no other element in between</p>\n",
    "</td>\n",
    "</tr>\n",
    "<tr>\n",
    "\n",
    "</tr>\n",
    "</tbody>\n",
    "</table>"
   ]
  },
  {
   "cell_type": "code",
   "execution_count": null,
   "metadata": {},
   "outputs": [],
   "source": [
    "url = 'https://www.deltacomputer.com/nvidia-dgx-a100-320gb-3ys.html'\n"
   ]
  },
  {
   "cell_type": "code",
   "execution_count": null,
   "metadata": {},
   "outputs": [],
   "source": []
  },
  {
   "cell_type": "code",
   "execution_count": null,
   "metadata": {},
   "outputs": [],
   "source": []
  }
 ],
 "metadata": {
  "anaconda-cloud": {},
  "kernelspec": {
   "display_name": "Python 3 (ipykernel)",
   "language": "python",
   "name": "python3"
  },
  "language_info": {
   "codemirror_mode": {
    "name": "ipython",
    "version": 3
   },
   "file_extension": ".py",
   "mimetype": "text/x-python",
   "name": "python",
   "nbconvert_exporter": "python",
   "pygments_lexer": "ipython3",
   "version": "3.9.7"
  }
 },
 "nbformat": 4,
 "nbformat_minor": 4
}
