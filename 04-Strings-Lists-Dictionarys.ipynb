{
 "cells": [
  {
   "cell_type": "markdown",
   "metadata": {},
   "source": [
    "# Strings, Lists & Dictionarys\n",
    "Prof. Dr. Mike Espig, WHZ – University of Applied Sciences Zwickau\n",
    "\n",
    "In this lesson we will consolidate the basic material from the lecture by practical exercises.\n",
    "\n",
    "We'll learn about the following topics:\n",
    "    \n",
    "    1.) Practicum"
   ]
  },
  {
   "cell_type": "markdown",
   "metadata": {},
   "source": [
    "# Practicum"
   ]
  },
  {
   "cell_type": "markdown",
   "metadata": {},
   "source": [
    "**Problem 1: Write a Python program to print the index of the character in a string.**\n",
    "\n",
    "**Input:**\n",
    "aString = \"Mike Espig\"\n",
    "\n",
    "**Output:**\n",
    "\n",
    "Current character M position at 0\n",
    "\n",
    "Current character i position at 1\n",
    "\n",
    "Current character k position at 2\n",
    "\n",
    "Current character e position at 3\n",
    "\n",
    "Current character   position at 4\n",
    "\n",
    "Current character E position at 5\n",
    "\n",
    "Current character s position at 6\n",
    "\n",
    "Current character p position at 7\n",
    "\n",
    "Current character i position at 8\n",
    "\n",
    "Current character g position at 9\n"
   ]
  },
  {
   "cell_type": "code",
   "execution_count": null,
   "metadata": {},
   "outputs": [],
   "source": []
  },
  {
   "cell_type": "markdown",
   "metadata": {},
   "source": [
    "**Problem 2: Write a Python program to count repeated characters in a string.**\n",
    "\n",
    "**Sample string:** \n",
    "\n",
    "'thequickbrownfoxjumpsoverthelazydog'\n",
    "\n",
    "**Expected output :**\n",
    "\n",
    "o 4\n",
    "\n",
    "e 3\n",
    "\n",
    "u 2\n",
    "\n",
    "h 2\n",
    "\n",
    "r 2\n",
    "\n",
    "t 2"
   ]
  },
  {
   "cell_type": "code",
   "execution_count": null,
   "metadata": {},
   "outputs": [],
   "source": []
  },
  {
   "cell_type": "markdown",
   "metadata": {},
   "source": [
    "**Problem 3: Write a Python function to create two strings from a given string. Create the first string using those character which occurs only once and create the second string which consists of multi-time occurring characters in the said string.** Hint: Use the solution from Problem 2."
   ]
  },
  {
   "cell_type": "code",
   "execution_count": null,
   "metadata": {},
   "outputs": [],
   "source": []
  },
  {
   "cell_type": "markdown",
   "metadata": {},
   "source": [
    "**Problem 4: Write a Python program to find the index of an item in a specified list.**"
   ]
  },
  {
   "cell_type": "code",
   "execution_count": null,
   "metadata": {},
   "outputs": [],
   "source": []
  },
  {
   "cell_type": "markdown",
   "metadata": {},
   "source": [
    "**Problem 5: Write a program that accepts a sentence and calculate the number of upper case letters and lower case letters.\n",
    "Suppose the following input is supplied to the program:**\n",
    "```\n",
    "Hello world!\n",
    "```\n",
    "**Then, the output should be:**\n",
    "```\n",
    "UPPER CASE 1\n",
    "LOWER CASE 9\n",
    "```"
   ]
  },
  {
   "cell_type": "code",
   "execution_count": null,
   "metadata": {},
   "outputs": [],
   "source": []
  },
  {
   "cell_type": "markdown",
   "metadata": {},
   "source": [
    "**Problem 6: Use a list comprehension to select each odd number in a list. The list is input by a sequence of comma-separated numbers.\n",
    "Suppose the following input is supplied to the program:**\n",
    "```\n",
    "1,2,3,4,5,6,7,8,9\n",
    "```\n",
    "**Then, the output should be:**\n",
    "```\n",
    "1,3,5,7,9\n",
    "```\n"
   ]
  },
  {
   "cell_type": "code",
   "execution_count": 4,
   "metadata": {},
   "outputs": [
    {
     "name": "stdin",
     "output_type": "stream",
     "text": [
      "Type in : 1,2,43,5,67,8,8,8,88,21,1\n"
     ]
    },
    {
     "name": "stdout",
     "output_type": "stream",
     "text": [
      "1,43,5,67,21,1\n"
     ]
    }
   ],
   "source": [
    "numbers = input(\"Type in :\")\n",
    "\n",
    "oddNumbers = [x for x in numbers.split(',') if int(x)%2 !=0]\n",
    "\n",
    "print((',').join(oddNumbers))"
   ]
  },
  {
   "cell_type": "code",
   "execution_count": 3,
   "metadata": {},
   "outputs": [
    {
     "data": {
      "text/plain": [
       "['1', '3', '5', '7', '9']"
      ]
     },
     "execution_count": 3,
     "metadata": {},
     "output_type": "execute_result"
    }
   ],
   "source": [
    "oddNumbers"
   ]
  },
  {
   "cell_type": "markdown",
   "metadata": {},
   "source": [
    "**Problem 7: A website requires the users to input username and password to register. Write a program to check the validity of password input by users.\n",
    "Following are the criteria for checking the password:**\n",
    "1. At least 1 letter between [a-z]\n",
    "2. At least 1 number between [0-9]\n",
    "1. At least 1 letter between [A-Z]\n",
    "3. At least 1 character from [$#@]\n",
    "4. Minimum length of transaction password: 6\n",
    "5. Maximum length of transaction password: 12\n",
    "\n",
    "Your program should accept a sequence of comma separated passwords and will check them according to the above criteria. Passwords that match the criteria are to be printed, each separated by a comma.\n",
    "\n",
    "If the following passwords are given as input to the program:\n",
    "\n",
    "```\n",
    "ABd1234@1,a F1#,2w3E*,2We3345\n",
    "```\n",
    "Then, the output of the program should be:\n",
    "```\n",
    "ABd1234@1\n",
    "\n",
    "```"
   ]
  },
  {
   "cell_type": "code",
   "execution_count": 9,
   "metadata": {},
   "outputs": [
    {
     "name": "stdin",
     "output_type": "stream",
     "text": [
      "Type in : ABd1234@1,a F1#,2w3E*,2We3345\n"
     ]
    },
    {
     "name": "stdout",
     "output_type": "stream",
     "text": [
      "ABd1234@1\n"
     ]
    }
   ],
   "source": [
    "import re\n",
    "\n",
    "passwords = input('Type in :')\n",
    "passwords = passwords.split(',')\n",
    "\n",
    "acceptedPw = []\n",
    "\n",
    "for w in passwords:\n",
    "    if len(w)<6 or len(w)>12:\n",
    "        continue\n",
    "    elif not re.search(\"[a-z]+\", w):\n",
    "        continue\n",
    "    elif not re.search(\"[A-Z]+\", w):\n",
    "        continue\n",
    "    elif not re.search(\"[0-9]+\", w):\n",
    "        continue\n",
    "    elif not re.search(\"[$#@]+\", w):\n",
    "        continue\n",
    "    else:\n",
    "        acceptedPw.append(w)\n",
    "\n",
    "print((\" \").join(acceptedPw))"
   ]
  },
  {
   "cell_type": "markdown",
   "metadata": {},
   "source": [
    "**Problem 8: Define a function which can print a dictionary where the keys are numbers between 1 and 20 (both included) and the values are square of keys.**"
   ]
  },
  {
   "cell_type": "code",
   "execution_count": 10,
   "metadata": {},
   "outputs": [
    {
     "name": "stdout",
     "output_type": "stream",
     "text": [
      "{1: 1, 2: 4, 3: 9, 4: 16, 5: 25, 6: 36, 7: 49, 8: 64, 9: 81, 10: 100, 11: 121, 12: 144, 13: 169, 14: 196, 15: 225, 16: 256, 17: 289, 18: 324, 19: 361, 20: 400}\n"
     ]
    }
   ],
   "source": [
    "def printDict():\n",
    "    dict={i:i**2 for i in range(1,21)}   # Using comprehension method and\n",
    "    print(dict)\n",
    "\n",
    "printDict()"
   ]
  },
  {
   "cell_type": "code",
   "execution_count": null,
   "metadata": {},
   "outputs": [],
   "source": []
  }
 ],
 "metadata": {
  "anaconda-cloud": {},
  "kernelspec": {
   "display_name": "Python 3 (ipykernel)",
   "language": "python",
   "name": "python3"
  },
  "language_info": {
   "codemirror_mode": {
    "name": "ipython",
    "version": 3
   },
   "file_extension": ".py",
   "mimetype": "text/x-python",
   "name": "python",
   "nbconvert_exporter": "python",
   "pygments_lexer": "ipython3",
   "version": "3.9.6"
  }
 },
 "nbformat": 4,
 "nbformat_minor": 4
}
