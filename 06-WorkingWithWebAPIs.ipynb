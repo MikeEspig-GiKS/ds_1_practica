{
 "cells": [
  {
   "cell_type": "markdown",
   "metadata": {},
   "source": [
    "# Working with Web APIs\n",
    "Prof. Dr. Mike Espig, WHZ – University of Applied Sciences Zwickau\n",
    "\n",
    "In this lesson we will consolidate the basic material from the lecture by practical exercises.\n",
    "\n",
    "We'll learn about the following topics:\n",
    "    \n",
    "    1.) The Kraken Web API and Practicum    "
   ]
  },
  {
   "cell_type": "markdown",
   "metadata": {},
   "source": [
    "## The Kraken Web API and Practicum"
   ]
  },
  {
   "cell_type": "markdown",
   "metadata": {},
   "source": [
    "[Kraken](https://www.kraken.com/) is a US-based cryptocurrency exchange, founded in 2011. The San Francisco-based exchange offers bitcoin, Ether and other cryptocurrencies with several fiat currencies including US dollars, Canadian dollars, British pounds, euros, and the Japanese yen, i.e. the exchange provides cryptocurrency to fiat trading. In February 2014, Kraken was ranked as the number one exchange by volume in trading between bitcoin and euros.\n",
    "\n",
    "We will use the [Kraken web application programming interface (API)](https://www.kraken.com/features/api) as an example of web APIs."
   ]
  },
  {
   "cell_type": "markdown",
   "metadata": {},
   "source": [
    "### JavaScript Object Notation (JSON)\n",
    "\n",
    "<p><b>JSON</b> (JavaScript Object Notation) is a lightweight data-interchange\n",
    "  format. It is easy for humans to read and write. It is easy for machines to\n",
    "  parse and generate. It is based on a subset of the\n",
    "  <a href=\"https://www.ecma-international.org/publications/files/ECMA-ST/Ecma-262.pdf\">JavaScript\n",
    "  Programming Language Standard\n",
    "  ECMA-262 2018</a>. JSON is a text format that is completely\n",
    "  language independent but uses conventions that are familiar to programmers of\n",
    "  the C-family of languages, including C, C++, C#, Java, JavaScript, Perl, Python,\n",
    "  and many others. These properties make JSON an ideal data-interchange language.</p>\n",
    "  \n",
    "  \n",
    "  \n",
    "<h2>JSON example</h2><p>Here’s an example of data encoded in JSON:</p><pre class=\"prettyprint\">{<br/>  “firstName”: “Jonathan”,<br/>  “lastName”: “Freeman”,<br/>  “loginCount”: 4,<br/>  “isWriter”: true,<br/>  “worksWith”: [“Spantree Technology Group”, “InfoWorld”],<br/>  “pets”: [<br/>    {<br/>      “name”: “Lilly”,<br/>      “type”: “Raccoon”<br/>    }<br/>  ]<br/>}</pre><p>The structure above clearly defines some attributes of a person. It includes a first and last name, the number of times the person has logged in, whether this person is a writer, a list of companies the person works with, and a list of the person’s pets (only one, in this case). A structure like the one above may be passed from a server to a web browser or a mobile application, which will then perform some action such as displaying the data or saving it for later reference.</p><aside class=\"nativo-promo nativo-promo-1 smartphone\" id=\"\"> </aside><p>JSON is a generic data format with a minimal number of value types: strings, numbers, booleans, lists, objects, and null. Although the notation is a subset of JavaScript, these types are represented in all common programming languages, making JSON a good candidate to transmit data across language gaps.</p>  "
   ]
  },
  {
   "cell_type": "markdown",
   "metadata": {},
   "source": [
    "### The order book of a cryptocurrency\n",
    "\n",
    "An order book is the list of orders (manual or electronic) that a trading venue (in particular cryptocurrency exchanges) uses to record the interest of buyers and sellers in a particular financial instrument. A matching engine uses the book to determine which orders can be fully or partially executed.\n",
    "\n",
    "\n",
    "<img src=\"../images/BidsAsks.png\" width=60%>\n"
   ]
  },
  {
   "cell_type": "code",
   "execution_count": null,
   "metadata": {},
   "outputs": [],
   "source": [
    "import pandas as pd\n",
    "import numpy as np\n",
    "\n",
    "import requests\n",
    "import datetime\n",
    "import time\n"
   ]
  },
  {
   "cell_type": "markdown",
   "metadata": {},
   "source": [
    "<h3 id=\"get-order-book\">Get order book</h3>\n",
    "<p>URL: https://api.kraken.com/0/public/Depth</p>\n",
    "<p>Input:</p>\n",
    "<pre>\n",
    "pair = asset pair to get market depth for\n",
    "count = maximum number of asks/bids (optional)\n",
    "</pre>\n",
    "<p>Result: array of pair name and market depth</p>\n",
    "<pre>\n",
    "&lt;pair_name&gt; = pair name\n",
    "    asks = ask side array of array entries(&lt;price&gt;, &lt;volume&gt;, &lt;timestamp&gt;)\n",
    "    bids = bid side array of array entries(&lt;price&gt;, &lt;volume&gt;, &lt;timestamp&gt;)\n",
    "</pre>\n",
    "\n",
    "https://api.kraken.com/0/public/Depth?pair=ETHUSD&count=5"
   ]
  },
  {
   "cell_type": "markdown",
   "metadata": {},
   "source": [
    "#### Create the API call"
   ]
  },
  {
   "cell_type": "code",
   "execution_count": null,
   "metadata": {},
   "outputs": [],
   "source": [
    "symbol            = 'XBT'\n",
    "comparison_symbol = 'USD'\n",
    "count             = 5\n",
    "\n",
    "market  = symbol + comparison_symbol\n",
    "\n",
    "url     ='https://api.kraken.com/0/public/Depth?pair={}&count={}'.format(market.upper(), count)\n",
    "url"
   ]
  },
  {
   "cell_type": "markdown",
   "metadata": {},
   "source": [
    "#### Get the JSON string"
   ]
  },
  {
   "cell_type": "code",
   "execution_count": null,
   "metadata": {},
   "outputs": [],
   "source": [
    "page = requests.get(url)\n",
    "jString = page.json()\n",
    "jString"
   ]
  },
  {
   "cell_type": "markdown",
   "metadata": {},
   "source": [
    "#### Get the results"
   ]
  },
  {
   "cell_type": "code",
   "execution_count": null,
   "metadata": {},
   "outputs": [],
   "source": [
    "marketS = 'X{}Z{}'.format(symbol.upper(), comparison_symbol.upper())\n",
    "marketS"
   ]
  },
  {
   "cell_type": "code",
   "execution_count": null,
   "metadata": {},
   "outputs": [],
   "source": [
    "asks = jString[\"result\"][marketS][\"asks\"]\n",
    "asks"
   ]
  },
  {
   "cell_type": "code",
   "execution_count": null,
   "metadata": {},
   "outputs": [],
   "source": [
    "bids= jString[\"result\"][marketS][\"bids\"]\n",
    "bids"
   ]
  },
  {
   "cell_type": "markdown",
   "metadata": {},
   "source": [
    "#### Unix Time\n",
    "[Unix time](https://timestamp.online/) (also known as POSIX time or Epoch time) is a system for describing instants in time, defined as the number of seconds that have elapsed since 00:00:00 Coordinated Universal Time (UTC), Thursday, 1 January 1970, not counting leap seconds. It is used widely in Unix-like and many other operating systems and file formats. Because it does not handle leap seconds, it is neither a linear representation of time nor a true representation of UTC."
   ]
  },
  {
   "cell_type": "code",
   "execution_count": null,
   "metadata": {},
   "outputs": [],
   "source": []
  },
  {
   "cell_type": "markdown",
   "metadata": {},
   "source": [
    "<font color=green>**Problem 1: Write a function order_book_of(symbol='ETH', comparison_symbol='USD', count=7) that gives the two DataFrames of the order book from the desired cryptocurrency.**</font> "
   ]
  },
  {
   "cell_type": "code",
   "execution_count": null,
   "metadata": {},
   "outputs": [],
   "source": []
  },
  {
   "cell_type": "markdown",
   "metadata": {},
   "source": [
    "#### Open-high-low-close chart\n",
    "\n",
    "An open-high-low-close chart (also OHLC) is a type of chart typically used to illustrate movements in the price of a financial instrument over time. Each vertical line on the chart shows the price range (the highest and lowest prices) over one unit of time, e.g., one day or one hour. Tick marks project from each side of the line indicating the opening price (e.g., for a daily bar chart this would be the starting price for that day) on the left, and the closing price for that time period on the right. The bars may be shown in different hues depending on whether prices rose or fell in that period.\n",
    "\n",
    "\n",
    "\n",
    "<h3 id=\"get-ohlc-data\">Get OHLC data</h3>\n",
    "<p>URL: https://api.kraken.com/0/public/OHLC</p>\n",
    "<p>Input:</p>\n",
    "<pre>\n",
    "pair = asset pair to get OHLC data for\n",
    "interval = time frame interval in minutes (optional):\n",
    "\t1 (default), 5, 15, 30, 60, 240, 1440, 10080, 21600\n",
    "since = return committed OHLC data since given id (optional.  exclusive)\n",
    "</pre>\n",
    "<p>Result: array of pair name and OHLC data</p>\n",
    "<pre>\n",
    "&lt;pair_name&gt; = pair name\n",
    "    array of array entries(&lt;time&gt;, &lt;open&gt;, &lt;high&gt;, &lt;low&gt;, &lt;close&gt;, &lt;vwap&gt;, &lt;volume&gt;, &lt;count&gt;)\n",
    "last = id to be used as since when polling for new, committed OHLC data\n",
    "</pre>\n",
    "<p>Note: the last entry in the OHLC array is for the current, not-yet-committed frame and will always be present, regardless of the value of &quot;since&quot;.</p>\n",
    "\n",
    "https://api.kraken.com/0/public/OHLC?pair=ETHUSD&interval=60&since=None"
   ]
  },
  {
   "cell_type": "code",
   "execution_count": null,
   "metadata": {},
   "outputs": [],
   "source": [
    "symbol            = 'ETH'\n",
    "comparison_symbol = 'USD'\n",
    "interval          = 60 \n",
    "since             = None\n"
   ]
  },
  {
   "cell_type": "code",
   "execution_count": null,
   "metadata": {},
   "outputs": [],
   "source": [
    "market  = symbol + comparison_symbol\n",
    "marketS = 'X{}Z{}'.format(symbol.upper(), comparison_symbol.upper())\n",
    "\n",
    "url  ='https://api.kraken.com/0/public/OHLC?pair={}&interval={}&since={}'.format(market.upper(), interval, since)\n",
    "page = requests.get(url)\n",
    "jString = page.json()\n"
   ]
  },
  {
   "cell_type": "markdown",
   "metadata": {},
   "source": [
    "<font color=green>**Problem 2: Write a function ohcl_data_of(symbol='ETH', comparison_symbol='USD', interval=60, since=None) that gives a DataFrame of the OHCL data from the desired cryptocurrency and set the index to time.**</font> "
   ]
  },
  {
   "cell_type": "code",
   "execution_count": null,
   "metadata": {},
   "outputs": [],
   "source": []
  },
  {
   "cell_type": "markdown",
   "metadata": {},
   "source": [
    "<font color=green>**Problem 3: Write a function server_time() that gives the [Kraken](https://www.kraken.com/features/api#get-server-time) server time.**</font>"
   ]
  },
  {
   "cell_type": "code",
   "execution_count": null,
   "metadata": {},
   "outputs": [],
   "source": []
  },
  {
   "cell_type": "markdown",
   "metadata": {},
   "source": [
    "<font color=green>**Problem 4: Write a class KrakenInterface that includes the functionality from Problem 1, Problem 2, and Problem 3.**</font>"
   ]
  },
  {
   "cell_type": "code",
   "execution_count": null,
   "metadata": {},
   "outputs": [],
   "source": []
  },
  {
   "cell_type": "code",
   "execution_count": null,
   "metadata": {},
   "outputs": [],
   "source": []
  }
 ],
 "metadata": {
  "anaconda-cloud": {},
  "kernelspec": {
   "display_name": "Python 3 (ipykernel)",
   "language": "python",
   "name": "python3"
  },
  "language_info": {
   "codemirror_mode": {
    "name": "ipython",
    "version": 3
   },
   "file_extension": ".py",
   "mimetype": "text/x-python",
   "name": "python",
   "nbconvert_exporter": "python",
   "pygments_lexer": "ipython3",
   "version": "3.9.7"
  }
 },
 "nbformat": 4,
 "nbformat_minor": 4
}
